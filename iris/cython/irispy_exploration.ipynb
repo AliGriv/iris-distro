{
 "metadata": {
  "name": "",
  "signature": "sha256:c34a721349d1e847d93b1ccfbf7014796b1ad2bab422a19573229618b56402b3"
 },
 "nbformat": 3,
 "nbformat_minor": 0,
 "worksheets": [
  {
   "cells": [
    {
     "cell_type": "code",
     "collapsed": false,
     "input": [
      "%load_ext autoreload\n",
      "%autoreload 2\n",
      "%pylab inline"
     ],
     "language": "python",
     "metadata": {},
     "outputs": [
      {
       "output_type": "stream",
       "stream": "stdout",
       "text": [
        "The autoreload extension is already loaded. To reload it, use:\n",
        "  %reload_ext autoreload\n",
        "Populating the interactive namespace from numpy and matplotlib"
       ]
      },
      {
       "output_type": "stream",
       "stream": "stdout",
       "text": [
        "\n"
       ]
      }
     ],
     "prompt_number": 12
    },
    {
     "cell_type": "code",
     "collapsed": false,
     "input": [
      "from irispy.utils import lcon_to_vert\n",
      "from irispy.iris import inflate_region"
     ],
     "language": "python",
     "metadata": {},
     "outputs": [],
     "prompt_number": 13
    },
    {
     "cell_type": "code",
     "collapsed": false,
     "input": [
      "from scipy.spatial import ConvexHull\n",
      "import numpy as np"
     ],
     "language": "python",
     "metadata": {},
     "outputs": [],
     "prompt_number": 14
    },
    {
     "cell_type": "code",
     "collapsed": false,
     "input": [
      "obs_1 = np.array([[2,2,3,3],[0,2,2,0]])\n",
      "obs_2 = np.array([[-1,-1,0,0.2],[0,2,2,0]])\n",
      "obs_3 = np.array([[0.5,0.5,0.5,0.5],[2,2,2,2]])"
     ],
     "language": "python",
     "metadata": {},
     "outputs": [],
     "prompt_number": 15
    },
    {
     "cell_type": "code",
     "collapsed": false,
     "input": [
      "obstacle_pts = np.dstack((obs_1, obs_2, obs_3))"
     ],
     "language": "python",
     "metadata": {},
     "outputs": [],
     "prompt_number": 16
    },
    {
     "cell_type": "code",
     "collapsed": false,
     "input": [
      "A_bounds = np.array([[-1,0],\n",
      "                     [0,-1],\n",
      "                     [1,0],\n",
      "                     [0,1]])\n",
      "lb = np.array([-1,-1])\n",
      "ub = np.array([3,3])\n",
      "b_bounds = np.hstack((-lb, ub))"
     ],
     "language": "python",
     "metadata": {},
     "outputs": [],
     "prompt_number": 17
    },
    {
     "cell_type": "code",
     "collapsed": false,
     "input": [
      "start = [1,2]"
     ],
     "language": "python",
     "metadata": {},
     "outputs": [],
     "prompt_number": 18
    },
    {
     "cell_type": "code",
     "collapsed": false,
     "input": [
      "A, b, C, d, results = inflate_region(obstacle_pts, A_bounds, b_bounds, start)"
     ],
     "language": "python",
     "metadata": {},
     "outputs": [],
     "prompt_number": 19
    },
    {
     "cell_type": "code",
     "collapsed": false,
     "input": [
      "f = figure()\n",
      "ax = f.add_subplot(111)\n",
      "hold(True)\n",
      "for j in range(obstacle_pts.shape[2]):\n",
      "    obs = obstacle_pts[:,:,j]\n",
      "    k = range(obs.shape[1]) + [0]\n",
      "    ax.plot(obs[0,k], obs[1,k], 'k.-')\n",
      "ax.set_xlim(lb[0]-0.05, ub[0]+0.05)\n",
      "ax.set_ylim(lb[1]-0.05, ub[1]+0.05)\n",
      "poly = lcon_to_vert(A, b)\n",
      "hull = ConvexHull(poly.T)\n",
      "k = np.hstack((hull.vertices, hull.vertices[0]))\n",
      "ax.plot(poly[0,k], poly[1,k], 'r.-')\n",
      "th = np.linspace(0, 2*np.pi, 100)\n",
      "y = np.vstack((np.cos(th), np.sin(th)))\n",
      "x = C.dot(y) + d.reshape((-1,1))\n",
      "ax.plot(x[0,:], x[1,:], 'b-')"
     ],
     "language": "python",
     "metadata": {},
     "outputs": [
      {
       "metadata": {},
       "output_type": "pyout",
       "prompt_number": 20,
       "text": [
        "[<matplotlib.lines.Line2D at 0x3aae690>]"
       ]
      },
      {
       "metadata": {},
       "output_type": "display_data",
       "png": "[encoded data removed]",
       "text": [
        "<matplotlib.figure.Figure at 0x3958e90>"
       ]
      }
     ],
     "prompt_number": 20
    },
    {
     "cell_type": "code",
     "collapsed": false,
     "input": [],
     "language": "python",
     "metadata": {},
     "outputs": []
    },
    {
     "cell_type": "code",
     "collapsed": false,
     "input": [],
     "language": "python",
     "metadata": {},
     "outputs": []
    }
   ],
   "metadata": {}
  }
 ]
}