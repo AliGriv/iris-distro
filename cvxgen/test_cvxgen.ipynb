{
 "metadata": {
  "name": "",
  "signature": "sha256:9a6e3b90565856c9d08900bbfb079eb1700962d5675dd69275c0dfe15f924515"
 },
 "nbformat": 3,
 "nbformat_minor": 0,
 "worksheets": [
  {
   "cells": [
    {
     "cell_type": "code",
     "collapsed": false,
     "input": [
      "%load_ext autoreload\n",
      "%autoreload 2"
     ],
     "language": "python",
     "metadata": {},
     "outputs": [],
     "prompt_number": 1
    },
    {
     "cell_type": "code",
     "collapsed": false,
     "input": [
      "from irispy.ldp_mosek import ldp as mosek_ldp\n",
      "from irispy.ldp_gurobi import ldp as gurobi_ldp\n",
      "from irispy.ldp_cvxgen import ldp as cvxgen_ldp"
     ],
     "language": "python",
     "metadata": {},
     "outputs": [],
     "prompt_number": 3
    },
    {
     "cell_type": "code",
     "collapsed": false,
     "input": [
      "import numpy as np"
     ],
     "language": "python",
     "metadata": {},
     "outputs": [],
     "prompt_number": 4
    },
    {
     "cell_type": "code",
     "collapsed": false,
     "input": [
      "Y = np.random.rand(3,8)\n",
      "print Y"
     ],
     "language": "python",
     "metadata": {},
     "outputs": [
      {
       "output_type": "stream",
       "stream": "stdout",
       "text": [
        "[[ 0.07679552  0.8366745   0.12181081  0.77423917  0.45762605  0.79449443\n",
        "   0.14414941  0.96406981]\n",
        " [ 0.36102141  0.3267518   0.6301299   0.12799804  0.24633271  0.6791391\n",
        "   0.61674855  0.23263205]\n",
        " [ 0.89097694  0.56311321  0.38960095  0.03318534  0.41613427  0.93194734\n",
        "   0.28324555  0.8230046 ]]\n"
       ]
      }
     ],
     "prompt_number": 10
    },
    {
     "cell_type": "code",
     "collapsed": false,
     "input": [
      "m = mosek_ldp(Y)\n",
      "print m\n",
      "g = gurobi_ldp(Y)\n",
      "print g\n",
      "c = cvxgen_ldp(Y)\n",
      "print c\n",
      "assert np.all(abs(m - g) < 1e-3)\n",
      "assert np.all(abs(m - c) < 1e-3)"
     ],
     "language": "python",
     "metadata": {},
     "outputs": [
      {
       "output_type": "stream",
       "stream": "stdout",
       "text": [
        "[ 0.39779814  0.40343681  0.21382337]\n",
        "[ 0.39779808  0.40342557  0.21384467]\n",
        "[ 0.39779882  0.40342566  0.21384647]\n"
       ]
      }
     ],
     "prompt_number": 11
    },
    {
     "cell_type": "code",
     "collapsed": false,
     "input": [
      "%timeit mosek_ldp(Y)"
     ],
     "language": "python",
     "metadata": {},
     "outputs": [
      {
       "output_type": "stream",
       "stream": "stdout",
       "text": [
        "100 loops, best of 3: 1.17 ms per loop\n"
       ]
      }
     ],
     "prompt_number": 12
    },
    {
     "cell_type": "code",
     "collapsed": false,
     "input": [
      "%timeit gurobi_ldp(Y)"
     ],
     "language": "python",
     "metadata": {},
     "outputs": [
      {
       "output_type": "stream",
       "stream": "stdout",
       "text": [
        "1000 loops, best of 3: 494 \u00b5s per loop\n"
       ]
      }
     ],
     "prompt_number": 13
    },
    {
     "cell_type": "code",
     "collapsed": false,
     "input": [
      "%timeit cvxgen_ldp(Y)"
     ],
     "language": "python",
     "metadata": {},
     "outputs": [
      {
       "output_type": "stream",
       "stream": "stdout",
       "text": [
        "10000 loops, best of 3: 26.1 \u00b5s per loop\n"
       ]
      }
     ],
     "prompt_number": 14
    },
    {
     "cell_type": "code",
     "collapsed": false,
     "input": [],
     "language": "python",
     "metadata": {},
     "outputs": []
    }
   ],
   "metadata": {}
  }
 ]
}