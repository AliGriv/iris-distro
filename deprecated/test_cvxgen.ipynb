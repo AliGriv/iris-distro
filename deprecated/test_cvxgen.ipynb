{
 "cells": [
  {
   "cell_type": "code",
   "execution_count": 1,
   "metadata": {
    "collapsed": false
   },
   "outputs": [],
   "source": [
    "%load_ext autoreload\n",
    "%autoreload 2"
   ]
  },
  {
   "cell_type": "code",
   "execution_count": 3,
   "metadata": {
    "collapsed": false
   },
   "outputs": [],
   "source": [
    "from irispy.ldp_mosek import ldp as mosek_ldp\n",
    "from irispy.ldp_gurobi import ldp as gurobi_ldp\n",
    "from irispy.ldp_cvxgen import ldp as cvxgen_ldp"
   ]
  },
  {
   "cell_type": "code",
   "execution_count": 4,
   "metadata": {
    "collapsed": false
   },
   "outputs": [],
   "source": [
    "import numpy as np"
   ]
  },
  {
   "cell_type": "code",
   "execution_count": 10,
   "metadata": {
    "collapsed": false
   },
   "outputs": [
    {
     "name": "stdout",
     "output_type": "stream",
     "text": [
      "[[ 0.07679552  0.8366745   0.12181081  0.77423917  0.45762605  0.79449443\n",
      "   0.14414941  0.96406981]\n",
      " [ 0.36102141  0.3267518   0.6301299   0.12799804  0.24633271  0.6791391\n",
      "   0.61674855  0.23263205]\n",
      " [ 0.89097694  0.56311321  0.38960095  0.03318534  0.41613427  0.93194734\n",
      "   0.28324555  0.8230046 ]]\n"
     ]
    }
   ],
   "source": [
    "Y = np.random.rand(3,8)\n",
    "print Y"
   ]
  },
  {
   "cell_type": "code",
   "execution_count": 11,
   "metadata": {
    "collapsed": false
   },
   "outputs": [
    {
     "name": "stdout",
     "output_type": "stream",
     "text": [
      "[ 0.39779814  0.40343681  0.21382337]\n",
      "[ 0.39779808  0.40342557  0.21384467]\n",
      "[ 0.39779882  0.40342566  0.21384647]\n"
     ]
    }
   ],
   "source": [
    "m = mosek_ldp(Y)\n",
    "print m\n",
    "g = gurobi_ldp(Y)\n",
    "print g\n",
    "c = cvxgen_ldp(Y)\n",
    "print c\n",
    "assert np.all(abs(m - g) < 1e-3)\n",
    "assert np.all(abs(m - c) < 1e-3)"
   ]
  },
  {
   "cell_type": "code",
   "execution_count": 12,
   "metadata": {
    "collapsed": false
   },
   "outputs": [
    {
     "name": "stdout",
     "output_type": "stream",
     "text": [
      "100 loops, best of 3: 1.17 ms per loop\n"
     ]
    }
   ],
   "source": [
    "%timeit mosek_ldp(Y)"
   ]
  },
  {
   "cell_type": "code",
   "execution_count": 13,
   "metadata": {
    "collapsed": false
   },
   "outputs": [
    {
     "name": "stdout",
     "output_type": "stream",
     "text": [
      "1000 loops, best of 3: 494 µs per loop\n"
     ]
    }
   ],
   "source": [
    "%timeit gurobi_ldp(Y)"
   ]
  },
  {
   "cell_type": "code",
   "execution_count": 14,
   "metadata": {
    "collapsed": false
   },
   "outputs": [
    {
     "name": "stdout",
     "output_type": "stream",
     "text": [
      "10000 loops, best of 3: 26.1 µs per loop\n"
     ]
    }
   ],
   "source": [
    "%timeit cvxgen_ldp(Y)"
   ]
  },
  {
   "cell_type": "code",
   "execution_count": null,
   "metadata": {
    "collapsed": false
   },
   "outputs": [],
   "source": []
  }
 ],
 "metadata": {
  "kernelspec": {
   "display_name": "Python 2",
   "language": "python",
   "name": "python2"
  },
  "language_info": {
   "codemirror_mode": {
    "name": "ipython",
    "version": 2
   },
   "file_extension": ".py",
   "mimetype": "text/x-python",
   "name": "python",
   "nbconvert_exporter": "python",
   "pygments_lexer": "ipython2",
   "version": "2.7.10"
  }
 },
 "nbformat": 4,
 "nbformat_minor": 0
}
