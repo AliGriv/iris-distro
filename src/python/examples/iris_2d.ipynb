{
 "cells": [
  {
   "cell_type": "code",
   "execution_count": 1,
   "metadata": {
    "collapsed": false
   },
   "outputs": [
    {
     "name": "stderr",
     "output_type": "stream",
     "text": [
      "/usr/local/lib/python2.7/dist-packages/matplotlib/font_manager.py:273: UserWarning: Matplotlib is building the font cache using fc-list. This may take a moment.\n",
      "  warnings.warn('Matplotlib is building the font cache using fc-list. This may take a moment.')\n"
     ]
    },
    {
     "name": "stdout",
     "output_type": "stream",
     "text": [
      "Populating the interactive namespace from numpy and matplotlib\n"
     ]
    }
   ],
   "source": [
    "%pylab inline"
   ]
  },
  {
   "cell_type": "code",
   "execution_count": 2,
   "metadata": {
    "collapsed": true
   },
   "outputs": [],
   "source": [
    "import irispy"
   ]
  },
  {
   "cell_type": "code",
   "execution_count": 3,
   "metadata": {
    "collapsed": false
   },
   "outputs": [],
   "source": [
    "def plot_obstacle(points, *args, **kwargs):\n",
    "    columns = np.hstack((range(points.shape[1]), [0]))\n",
    "    plot(points[0,columns], points[1, columns], *args, **kwargs)"
   ]
  },
  {
   "cell_type": "code",
   "execution_count": 4,
   "metadata": {
    "collapsed": false
   },
   "outputs": [],
   "source": [
    "# A simple example with only one obstacle:\n",
    "\n",
    "obstacles = [np.array([[1.0, 2], [2, 1.0]]).T]\n",
    "bounds = irispy.Polyhedron.fromBounds([-1,-1], [2,2])\n",
    "seed_point = np.array([0.0, 0.0])\n",
    "\n",
    "region = irispy.inflate_region(obstacles, seed_point, bounds)"
   ]
  },
  {
   "cell_type": "code",
   "execution_count": 5,
   "metadata": {
    "collapsed": false
   },
   "outputs": [
    {
     "data": {
      "text/plain": [
       "(-1.5, 2.5)"
      ]
     },
     "execution_count": 5,
     "metadata": {},
     "output_type": "execute_result"
    },
    {
     "data": {
      "image/png": "[encoded data removed]",
      "text/plain": [
       "<matplotlib.figure.Figure at 0x2ab43f21c390>"
      ]
     },
     "metadata": {},
     "output_type": "display_data"
    }
   ],
   "source": [
    "# Draw the boundary and obstacles:\n",
    "figure(figsize=(8, 3))\n",
    "subplot(1, 2, 1)\n",
    "bounds.draw()\n",
    "for obs in obstacles:\n",
    "    plot_obstacle(obs, 'k.-')\n",
    "gca().set_xlim([-1.5, 2.5])\n",
    "gca().set_ylim([-1.5, 2.5])\n",
    "\n",
    "# Draw the region's ellipsoid and polyhedron:\n",
    "subplot(1, 2, 2)\n",
    "bounds.draw()\n",
    "for obs in obstacles:\n",
    "    plot_obstacle(obs, 'k.-')\n",
    "region.polyhedron.draw(edgecolor='g')\n",
    "region.ellipsoid.draw()\n",
    "gca().set_xlim([-1.5, 2.5])\n",
    "gca().set_ylim([-1.5, 2.5])"
   ]
  },
  {
   "cell_type": "code",
   "execution_count": 6,
   "metadata": {
    "collapsed": false
   },
   "outputs": [],
   "source": [
    "# Now a slightly more complicated example, with three obstacles:\n",
    "\n",
    "obstacles = [np.array([[2., 0], [2, 2], [3, 2], [3, 0]]).T,\n",
    "             np.array([[-1., 0], [-1, 2], [0, 2], [0.2, 0]]).T,\n",
    "             np.array([[0.5, 2]]).T]\n",
    "bounds = irispy.Polyhedron.fromBounds([-1, -1], [3, 3])\n",
    "seed_point = np.array([1.0, 2.0])\n",
    "region = irispy.inflate_region(obstacles, seed_point, bounds)"
   ]
  },
  {
   "cell_type": "code",
   "execution_count": 7,
   "metadata": {
    "collapsed": false
   },
   "outputs": [
    {
     "data": {
      "text/plain": [
       "(-1.5, 3.5)"
      ]
     },
     "execution_count": 7,
     "metadata": {},
     "output_type": "execute_result"
    },
    {
     "data": {
      "image/png": "[encoded data removed]",
      "text/plain": [
       "<matplotlib.figure.Figure at 0x2ab43f21c110>"
      ]
     },
     "metadata": {},
     "output_type": "display_data"
    }
   ],
   "source": [
    "# Draw the boundary and obstacles:\n",
    "figure(figsize=(8, 3))\n",
    "subplot(1, 2, 1)\n",
    "bounds.draw()\n",
    "for obs in obstacles:\n",
    "    plot_obstacle(obs, 'k.-')\n",
    "gca().set_xlim([-1.5, 3.5])\n",
    "gca().set_ylim([-1.5, 3.5])\n",
    "\n",
    "# Draw the region's ellipsoid and polyhedron:\n",
    "subplot(1, 2, 2)\n",
    "bounds.draw()\n",
    "for obs in obstacles:\n",
    "    plot_obstacle(obs, 'k.-')\n",
    "region.polyhedron.draw(edgecolor='g')\n",
    "region.ellipsoid.draw()\n",
    "gca().set_xlim([-1.5, 3.5])\n",
    "gca().set_ylim([-1.5, 3.5])"
   ]
  },
  {
   "cell_type": "code",
   "execution_count": 8,
   "metadata": {
    "collapsed": true
   },
   "outputs": [],
   "source": []
  }
 ],
 "metadata": {
  "kernelspec": {
   "display_name": "Python 2",
   "language": "python",
   "name": "python2"
  },
  "language_info": {
   "codemirror_mode": {
    "name": "ipython",
    "version": 2
   },
   "file_extension": ".py",
   "mimetype": "text/x-python",
   "name": "python",
   "nbconvert_exporter": "python",
   "pygments_lexer": "ipython2",
   "version": "2.7.6"
  }
 },
 "nbformat": 4,
 "nbformat_minor": 0
}